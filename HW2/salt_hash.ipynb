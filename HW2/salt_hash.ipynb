{
  "nbformat": 4,
  "nbformat_minor": 0,
  "metadata": {
    "colab": {
      "name": "salt_hash.ipynb",
      "provenance": [],
      "collapsed_sections": []
    },
    "kernelspec": {
      "name": "python3",
      "display_name": "Python 3"
    },
    "language_info": {
      "name": "python"
    }
  },
  "cells": [
    {
      "cell_type": "code",
      "execution_count": 1,
      "metadata": {
        "colab": {
          "base_uri": "https://localhost:8080/"
        },
        "id": "PPmMbFCPbYFa",
        "outputId": "c370e7c8-6857-4518-b065-be0bae6d4262"
      },
      "outputs": [
        {
          "output_type": "stream",
          "name": "stdout",
          "text": [
            "Mounted at /content/drive\n"
          ]
        }
      ],
      "source": [
        "from google.colab import drive\n",
        "drive.mount('/content/drive')\n",
        "import os\n",
        "os.chdir('drive/MyDrive/DL/HW2')"
      ]
    },
    {
      "cell_type": "markdown",
      "source": [
        "Importing required Packages"
      ],
      "metadata": {
        "id": "jE_9pmZFb_Ql"
      }
    },
    {
      "cell_type": "code",
      "source": [
        "import string\n",
        "import hashlib\n",
        "import itertools"
      ],
      "metadata": {
        "id": "b-kHVP8Db4j7"
      },
      "execution_count": 2,
      "outputs": []
    },
    {
      "cell_type": "markdown",
      "source": [
        "Declaring required file names"
      ],
      "metadata": {
        "id": "DA9rYeyWcKWt"
      }
    },
    {
      "cell_type": "code",
      "source": [
        "Salt_file = 'Salt.txt'\n",
        "Hash_file = 'Hash.txt'\n",
        "UID_file = 'UID.txt'\n",
        "Password_file = 'Password.txt'"
      ],
      "metadata": {
        "id": "4UUMlucBb-bd"
      },
      "execution_count": 3,
      "outputs": []
    },
    {
      "cell_type": "markdown",
      "source": [
        "Reading UID, Password, Hash and Salt Data"
      ],
      "metadata": {
        "id": "3h7gh4_LcaeK"
      }
    },
    {
      "cell_type": "code",
      "source": [
        "def read_text(filename):\n",
        "  with open(filename) as f:\n",
        "    lines = f.readlines()\n",
        "  temp=[]\n",
        "  for val in lines:\n",
        "    temp.append(val.split('\\n')[0])\n",
        "  return temp\n",
        "\n",
        "UID =  read_text(UID_file)\n",
        "Password = read_text(Password_file)\n",
        "Hash = read_text(Hash_file)\n",
        "Salt = read_text(Salt_file)"
      ],
      "metadata": {
        "id": "Jv2Wx_FRcPKf"
      },
      "execution_count": 4,
      "outputs": []
    },
    {
      "cell_type": "markdown",
      "source": [
        "Hash verification function to generate a hash value, compare the generated hash value with the given hash value associated with the UID"
      ],
      "metadata": {
        "id": "HpqgMdJ1fpmr"
      }
    },
    {
      "cell_type": "code",
      "source": [
        "class VerificationSystem():\n",
        "  #creating data set/dictionary for reusing in other functions\n",
        "  def __init__(self):\n",
        "    self.data = {}\n",
        "    for val in range(len(UID)):\n",
        "      #dictionary of UID associated with salt,password and Hash\n",
        "      self.data.update({UID[val]:{'Salt':Salt[val],'Password':Password[val],'Hash':Hash[val]}})\n",
        "  \n",
        "  #Concat function to geerate Password + salt values associated with given UID val\n",
        "  def HashSaltconcat(self,UIDval):\n",
        "    return self.data[UIDval]['Password']+self.data[UIDval]['Salt']\n",
        "\n",
        "  #Hash functon to create a hash value from password and salt\n",
        "  def hashcom(self,UIDval):\n",
        "    #hasing md5 method\n",
        "    m = hashlib.md5()\n",
        "    #Creating concated Password and salt values for given UID\n",
        "    inputstr = VerificationSystem().HashSaltconcat(UIDval)\n",
        "    #encoding using UTF-8\n",
        "    m.update(inputstr.encode(\"utf-8\"))\n",
        "    #genetating hexa value from above encoded value\n",
        "    return m.hexdigest()\n",
        "\n",
        "  #verification function to verify our hoshcom generatd hash value is equal to given hash value associated with UID\n",
        "  def Verify(self, UIDval):\n",
        "    hashval = VerificationSystem().hashcom(UIDval)\n",
        "    if self.data[UIDval]['Hash'] ==  hashval:\n",
        "      print('UID: {},Password: {}, Salt: {},Hash: {}, GeneratedHash: {}'.format(UIDval,self.data[UIDval]['Password'],self.data[UIDval]['Salt'],self.data[UIDval]['Hash'],hashval))\n",
        "      print('The input password and salt matches the hash value in the database')\n",
        "    else:\n",
        "      print('The input password and salt does not match the hash value in the database')  \n"
      ],
      "metadata": {
        "id": "bTKXSo61eedb"
      },
      "execution_count": 10,
      "outputs": []
    },
    {
      "cell_type": "markdown",
      "source": [
        "Hash Cracker functon which take UID a input and proceeds with  a brute force uing series of forloop in hashcom which creates all possible hash codes and when a matching hash code is generated associted SALT and PASSWORD are provide as inputs"
      ],
      "metadata": {
        "id": "SsVLkn2dditT"
      }
    },
    {
      "cell_type": "code",
      "source": [
        "class Cracker():\n",
        "  #declaring data into object as dictionary of frmat UUID:{Salt,Password,Hash}\n",
        "  def __init__(self):\n",
        "    chars = '0123456789'\n",
        "    self.passwords=[]\n",
        "    self.salts=[]\n",
        "    self.data = {}\n",
        "    #geneate lst of pass words ranging 0000 to 10000\n",
        "    for item in itertools.product(chars, repeat=4):\n",
        "      self.passwords.append(''.join(item))\n",
        "      if ''.join(item) == '1000':\n",
        "        break\n",
        "    \n",
        "    #generating lis of satls matching 000 to 100\n",
        "    for item in itertools.product(chars, repeat=3):\n",
        "      self.salts.append(''.join(item))\n",
        "      if ''.join(item) == '100':\n",
        "        break\n",
        "    #Generating dictionaly of data with associated UID, salt, asswords ad Hash\n",
        "    for val in range(len(UID)):\n",
        "      self.data.update({UID[val]:{'Salt':Salt[val],'Password':Password[val],'Hash':Hash[val]}})\n",
        "\n",
        "  #brute force function to generate Hashcode using data set of passwords and salts, encryted using md5and utf8 encoded  \n",
        "  def hashcom(self,UIDval):\n",
        "    for pas in self.passwords:\n",
        "      for salt in self.salts:\n",
        "        #md5 mechanism\n",
        "        m = hashlib.md5()\n",
        "        inputstr = pas+salt\n",
        "        #concating slat and password (pass+salt) and encoding of utf-8\n",
        "        m.update(str(inputstr).encode(\"utf-8\"))\n",
        "        #generating hexadigest hash values\n",
        "        hashval = m.hexdigest()\n",
        "        if hashval == self.data[UIDval]['Hash']:\n",
        "            print('Password: {}, Salt: {}, Hash: {}'.format(pas,salt,hashval))\n",
        "            break"
      ],
      "metadata": {
        "id": "N9NWADSkciag"
      },
      "execution_count": 9,
      "outputs": []
    },
    {
      "cell_type": "code",
      "source": [
        "def main():\n",
        "  print(\"****************************************************************\")\n",
        "  print(\"               Calling Hash Verification function               \")\n",
        "  print(\"\")\n",
        "\n",
        "  #Calling verification function to geenerate Hash code and compare with associated hash value for the given UID\n",
        "  vs = VerificationSystem()\n",
        "  count = 1\n",
        "  while count <= 10:\n",
        "    print(\"Verification \",count)\n",
        "    UIDval = input('Enter the UID for Hash generation: ')\n",
        "    vs.Verify(UIDval)\n",
        "    count = count + 1\n",
        "  #Calling Cracker function to generate hash value equal to the Hashvalue associated with the given UID \n",
        "  print(\"\")\n",
        "  print(\"****************************************************************\")\n",
        "  print(\"               Calling Hash Cracer function               \")\n",
        "  print(\"\")\n",
        "  count=1\n",
        "  while count <= 10:  \n",
        "    cr = Cracker()\n",
        "    print(\"Sno \",count)\n",
        "    UIDval = input('Enter the UID for Hash Cracker: ')\n",
        "    cr.hashcom(UIDval)\n",
        "    count =  count + 1\n",
        "  \n",
        "  \n",
        "\n",
        "if __name__ == \"__main__\":\n",
        "    main()"
      ],
      "metadata": {
        "colab": {
          "base_uri": "https://localhost:8080/"
        },
        "id": "-opxIJZVgEEA",
        "outputId": "35ba4c31-a949-4e86-c714-25443c649159"
      },
      "execution_count": 12,
      "outputs": [
        {
          "output_type": "stream",
          "name": "stdout",
          "text": [
            "****************************************************************\n",
            "               Calling Hash Verification function               \n",
            "\n",
            "Verification  1\n",
            "Enter the UID for Hash generation: 001\n",
            "UID: 001,Password: 0599, Salt: 054,Hash: 4a1d6f102cd95fac33853e4d72fe1dc5, GeneratedHash: 4a1d6f102cd95fac33853e4d72fe1dc5\n",
            "The input password and salt matches the hash value in the database\n",
            "Verification  2\n",
            "Enter the UID for Hash generation: 002\n",
            "UID: 002,Password: 0973, Salt: 027,Hash: e8e7d67256aedc225a072540540d910c, GeneratedHash: e8e7d67256aedc225a072540540d910c\n",
            "The input password and salt matches the hash value in the database\n",
            "Verification  3\n",
            "Enter the UID for Hash generation: 011\n",
            "UID: 011,Password: 0818, Salt: 047,Hash: 8ec4312533793e33d092978b2c847330, GeneratedHash: 8ec4312533793e33d092978b2c847330\n",
            "The input password and salt matches the hash value in the database\n",
            "Verification  4\n",
            "Enter the UID for Hash generation: 034\n",
            "UID: 034,Password: 0861, Salt: 052,Hash: 74f4d9a79a5a4f17e231008269d8f126, GeneratedHash: 74f4d9a79a5a4f17e231008269d8f126\n",
            "The input password and salt matches the hash value in the database\n",
            "Verification  5\n",
            "Enter the UID for Hash generation: 054\n",
            "UID: 054,Password: 0184, Salt: 027,Hash: 55df2796fee19ddd3860b950350fad28, GeneratedHash: 55df2796fee19ddd3860b950350fad28\n",
            "The input password and salt matches the hash value in the database\n",
            "Verification  6\n",
            "Enter the UID for Hash generation: 055\n",
            "UID: 055,Password: 0773, Salt: 022,Hash: cf855b8878ca23707b21abb06e6e9bfe, GeneratedHash: cf855b8878ca23707b21abb06e6e9bfe\n",
            "The input password and salt matches the hash value in the database\n",
            "Verification  7\n",
            "Enter the UID for Hash generation: 099\n",
            "UID: 099,Password: 0555, Salt: 063,Hash: 3b3542579462ba4654040def945b11ce, GeneratedHash: 3b3542579462ba4654040def945b11ce\n",
            "The input password and salt matches the hash value in the database\n",
            "Verification  8\n",
            "Enter the UID for Hash generation: 023\n",
            "UID: 023,Password: 0253, Salt: 084,Hash: e307b0acf8b5896c62ec0372ed3b7a38, GeneratedHash: e307b0acf8b5896c62ec0372ed3b7a38\n",
            "The input password and salt matches the hash value in the database\n",
            "Verification  9\n",
            "Enter the UID for Hash generation: 028\n",
            "UID: 028,Password: 0319, Salt: 037,Hash: ecf00e96b47634d0edd411a3ecd16d45, GeneratedHash: ecf00e96b47634d0edd411a3ecd16d45\n",
            "The input password and salt matches the hash value in the database\n",
            "Verification  10\n",
            "Enter the UID for Hash generation: 088\n",
            "UID: 088,Password: 0367, Salt: 079,Hash: 74140677f7e93c0faf8a40c21ac21d77, GeneratedHash: 74140677f7e93c0faf8a40c21ac21d77\n",
            "The input password and salt matches the hash value in the database\n",
            "\n",
            "****************************************************************\n",
            "               Calling Hash Cracer function               \n",
            "\n",
            "Sno  1\n",
            "Enter the UID for Hash Cracker: 001\n",
            "Password: 0599, Salt: 054, Hash: 4a1d6f102cd95fac33853e4d72fe1dc5\n",
            "Sno  2\n",
            "Enter the UID for Hash Cracker: 002\n",
            "Password: 0973, Salt: 027, Hash: e8e7d67256aedc225a072540540d910c\n",
            "Sno  3\n",
            "Enter the UID for Hash Cracker: 045\n",
            "Password: 0138, Salt: 056, Hash: e05b02d5732d420bb62c3175413b8f45\n",
            "Sno  4\n",
            "Enter the UID for Hash Cracker: 055\n",
            "Password: 0773, Salt: 022, Hash: cf855b8878ca23707b21abb06e6e9bfe\n",
            "Sno  5\n",
            "Enter the UID for Hash Cracker: 023\n",
            "Password: 0253, Salt: 084, Hash: e307b0acf8b5896c62ec0372ed3b7a38\n",
            "Sno  6\n",
            "Enter the UID for Hash Cracker: 034\n",
            "Password: 0861, Salt: 052, Hash: 74f4d9a79a5a4f17e231008269d8f126\n",
            "Sno  7\n",
            "Enter the UID for Hash Cracker: 056\n",
            "Password: 0637, Salt: 003, Hash: 0460cf935180a5fb1bee794d2166dcc8\n",
            "Sno  8\n",
            "Enter the UID for Hash Cracker: 047\n",
            "Password: 0482, Salt: 028, Hash: 1d706464afbf3138772167e9cd5ac648\n",
            "Sno  9\n",
            "Enter the UID for Hash Cracker: 046\n",
            "Password: 0825, Salt: 094, Hash: ecf7f3478a26f387d045956adf3b048b\n",
            "Sno  10\n",
            "Enter the UID for Hash Cracker: 028\n",
            "Password: 0319, Salt: 037, Hash: ecf00e96b47634d0edd411a3ecd16d45\n"
          ]
        }
      ]
    }
  ]
}